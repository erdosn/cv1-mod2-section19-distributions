{
 "cells": [
  {
   "cell_type": "markdown",
   "metadata": {},
   "source": [
    "### Questions\n",
    "* Distribution functions - when to use cdf or pdf"
   ]
  },
  {
   "cell_type": "markdown",
   "metadata": {},
   "source": [
    "### Objectives\n",
    "YWBAT \n",
    "* Solve problems using poisson distributions\n",
    "* Solve problems using geometric distributions\n",
    "* Explain how the central limit theorem is applied to make claims on a population"
   ]
  },
  {
   "cell_type": "markdown",
   "metadata": {},
   "source": [
    "### Outline\n",
    "* Questions\n",
    "* Breakout rooms and solve some problems\n",
    "* Discuss the CLT\n",
    "* Wrap Up"
   ]
  },
  {
   "cell_type": "code",
   "execution_count": 1,
   "metadata": {},
   "outputs": [],
   "source": [
    "import pandas as pd\n",
    "import numpy as np\n",
    "\n",
    "import matplotlib.pyplot as plt"
   ]
  },
  {
   "cell_type": "markdown",
   "metadata": {},
   "source": [
    "# Breakout Room 1\n",
    "\n",
    "When do we use Poisson distributions?\n",
    "\n",
    "Probability of events happening over a given time.  We have some rate of events over time."
   ]
  },
  {
   "cell_type": "markdown",
   "metadata": {},
   "source": [
    "### Poisson distribution problems\n",
    "The Hulk smashes 17 items on average during a 6 minute time period.\n",
    "\n",
    "a) Calculate the probability that Hulk smashes 10 items in 6 minutes.\n",
    "\n",
    "b) Calculate the probability that Hulk smashes at least 1 item in 3 minutes.\n",
    "\n",
    "c) During a ten minute period, what is the probability that exactly 15 items are smashed?\n",
    "\n",
    "----------------\n",
    "<details>\n",
    "    <summary>Solutions Here</summary>\n",
    "    \n",
    "    a) $$p = \\frac{\\lambda^x \\times e^{-\\lambda}}{x!} = \\frac{\\frac{17}{6}^x \\times e^{-\\frac{17}{6}}}{x!}$$\n",
    "    \n",
    "    Plug in 10 for x\n",
    "       \n",
    "       $$p = \\frac{\\frac{17}{6}^{10} \\times e^{-\\frac{17}{6}}}{10!}$$\n",
    "       \n",
    "       calculate \n",
    "       $$p = 0.0054 = 0.54\\%$$\n",
    "            \n",
    "     b) (CDF) Start by converting lambda to match our time interval\n",
    "    \n",
    "        $$p = \\frac{\\frac{8.5}{3}^x \\times e^{-\\frac{8.5}{3}}}{x!}$$\n",
    "        \n",
    "    Plug in 1 for x\n",
    "        \n",
    "        $$p = \\frac{\\frac{17}{6}^1 \\times e^{-\\frac{17}{6}}}{1!}$$\n",
    "    \n",
    "    Calculate\n",
    "    \n",
    "        $$ p = 16.67\\%$$\n",
    "    \n",
    "    c) Left as an exercise for the reader\n",
    "    \n",
    "</details>"
   ]
  },
  {
   "cell_type": "code",
   "execution_count": 3,
   "metadata": {},
   "outputs": [
    {
     "data": {
      "text/plain": [
       "0.0005403966461534441"
      ]
     },
     "execution_count": 3,
     "metadata": {},
     "output_type": "execute_result"
    }
   ],
   "source": [
    "lambd = 17/6 # 17 items in 6 minutes\n",
    "x = 10\n",
    "def poisson(lambd, x):\n",
    "    num = lambd**x * np.exp(-lambd)\n",
    "    den = np.math.factorial(x)\n",
    "    return num/den\n",
    "\n",
    "poisson(lambd, x)"
   ]
  },
  {
   "cell_type": "code",
   "execution_count": 17,
   "metadata": {},
   "outputs": [
    {
     "data": {
      "text/plain": [
       "(array([14.,  0., 32.,  0., 54.,  0., 41.,  0., 32.,  0., 10.,  0., 15.,\n",
       "         0.,  2.]),\n",
       " array([0.        , 0.46666667, 0.93333333, 1.4       , 1.86666667,\n",
       "        2.33333333, 2.8       , 3.26666667, 3.73333333, 4.2       ,\n",
       "        4.66666667, 5.13333333, 5.6       , 6.06666667, 6.53333333,\n",
       "        7.        ]),\n",
       " <a list of 15 Patch objects>)"
      ]
     },
     "execution_count": 17,
     "metadata": {},
     "output_type": "execute_result"
    },
    {
     "data": {
      "image/png": "[encoded data removed]",
      "text/plain": [
       "<matplotlib.figure.Figure at 0x11fbb79b0>"
      ]
     },
     "metadata": {},
     "output_type": "display_data"
    }
   ],
   "source": [
    "x = np.random.poisson(17/6, 200)\n",
    "plt.hist(x, bins=15, color='g')"
   ]
  },
  {
   "cell_type": "code",
   "execution_count": 19,
   "metadata": {},
   "outputs": [
    {
     "data": {
      "text/plain": [
       "0.9411835283575701"
      ]
     },
     "execution_count": 19,
     "metadata": {},
     "output_type": "execute_result"
    }
   ],
   "source": [
    "# P(1) + P(2) + ... + P(k) + ...\n",
    "# P(0)\n",
    "1 - poisson(lambd=8.5/3, x=0)"
   ]
  },
  {
   "cell_type": "code",
   "execution_count": 20,
   "metadata": {},
   "outputs": [
    {
     "data": {
      "text/plain": [
       "2.8333333333333335"
      ]
     },
     "execution_count": 20,
     "metadata": {},
     "output_type": "execute_result"
    }
   ],
   "source": [
    "# 6 * 5/3 = 10\n",
    "lambd_10 = (17*(5/3))/10\n",
    "lambd_10"
   ]
  },
  {
   "cell_type": "code",
   "execution_count": 21,
   "metadata": {},
   "outputs": [
    {
     "data": {
      "text/plain": [
       "2.7381953066990834e-07"
      ]
     },
     "execution_count": 21,
     "metadata": {},
     "output_type": "execute_result"
    }
   ],
   "source": [
    "poisson(lambd_10, 15)"
   ]
  },
  {
   "cell_type": "markdown",
   "metadata": {},
   "source": [
    "# Breakout Room 2\n",
    "\n",
    "We use binomial when we want to determine successes and failures over n trials"
   ]
  },
  {
   "cell_type": "markdown",
   "metadata": {},
   "source": [
    "### Binomial/Geometric distribution problems\n",
    "Assume that 12% of the population pours their cereal on their milk. We choose 11 people at random.\n",
    "\n",
    "a) What is the probability that the first person who pours milk on their cereal is the 4th person chosen?\n",
    "\n",
    "b) What is the probability that the first person who pours milk on their cereal is the 4th or 5th person chosen?\n",
    "\n",
    "c) There are exactly 5 people who pour their cereal on their milk in the group?\n",
    "\n",
    "----------------------\n",
    "\n",
    "<details>\n",
    "    <summary>Solutions Here</summary>\n",
    "    \n",
    "    a) $$ p = 0.12^3 \\times 0.88 = 0.0015 = .15\\% $$\n",
    "    \n",
    "    b) $$ p = p(4) + p(5) = 0.12^3 \\times 0.88 + 0.12^4 \\times 0.88 = 0.0017 = 0.17\\% $$\n",
    "    \n",
    "    c) $$ p = {11 \\choose 8} 0.12^5 \\times 0.88^6 = 0.0020 = 0.20\\%$$\n",
    "    \n",
    "</details>"
   ]
  },
  {
   "cell_type": "code",
   "execution_count": 23,
   "metadata": {},
   "outputs": [
    {
     "data": {
      "text/plain": [
       "0.0015206399999999998"
      ]
     },
     "execution_count": 23,
     "metadata": {},
     "output_type": "execute_result"
    }
   ],
   "source": [
    "0.12**3 * 0.88"
   ]
  },
  {
   "cell_type": "code",
   "execution_count": null,
   "metadata": {},
   "outputs": [],
   "source": [
    "# P(event)^(k-1) * (1 - P(event))\n",
    "0.12**3 # what is the probability of picking 3 milk first people in a row"
   ]
  },
  {
   "cell_type": "code",
   "execution_count": null,
   "metadata": {},
   "outputs": [],
   "source": [
    "# P(4) + P(5)"
   ]
  },
  {
   "cell_type": "code",
   "execution_count": 24,
   "metadata": {},
   "outputs": [
    {
     "data": {
      "text/plain": [
       "0.0017031167999999998"
      ]
     },
     "execution_count": 24,
     "metadata": {},
     "output_type": "execute_result"
    }
   ],
   "source": [
    "(0.12**3 * 0.88) + (0.12**4 * 0.88)"
   ]
  },
  {
   "cell_type": "code",
   "execution_count": 26,
   "metadata": {},
   "outputs": [],
   "source": [
    "def choose(n, k):\n",
    "    num = np.math.factorial(n)\n",
    "    den = np.math.factorial(k) * np.math.factorial(n-k)\n",
    "    return num/den"
   ]
  },
  {
   "cell_type": "code",
   "execution_count": 28,
   "metadata": {},
   "outputs": [
    {
     "data": {
      "text/plain": [
       "0.005338807214785796"
      ]
     },
     "execution_count": 28,
     "metadata": {},
     "output_type": "execute_result"
    }
   ],
   "source": [
    "choose(11, 5)*(0.12**5)*(0.88**6)"
   ]
  },
  {
   "cell_type": "markdown",
   "metadata": {},
   "source": [
    "### What isn't the central limit theorem?\n",
    "* the sample population is normal\n",
    "* the population is normal\n",
    "\n",
    "\n",
    "### What does the central limit theorem state? \n",
    "A sample distribution will be similar to the population distribution\n",
    "\n",
    "The sample statistics are normally distributed"
   ]
  },
  {
   "cell_type": "code",
   "execution_count": 34,
   "metadata": {},
   "outputs": [
    {
     "data": {
      "text/plain": [
       "(34.7614, 14.472714674172222)"
      ]
     },
     "execution_count": 34,
     "metadata": {},
     "output_type": "execute_result"
    }
   ],
   "source": [
    "# Here's a population of 10,000 people between the ages of 10 and 60\n",
    "population = np.random.randint(10, 60, 10000)\n",
    "\n",
    "# this is the mean of the population\n",
    "pop_mean = population.mean()\n",
    "pop_mean, population.std()"
   ]
  },
  {
   "cell_type": "code",
   "execution_count": 35,
   "metadata": {},
   "outputs": [
    {
     "data": {
      "image/png": "[encoded data removed]",
      "text/plain": [
       "<matplotlib.figure.Figure at 0x1207ece80>"
      ]
     },
     "metadata": {},
     "output_type": "display_data"
    }
   ],
   "source": [
    "plt.hist(population, color='r', bins=20)\n",
    "plt.show()"
   ]
  },
  {
   "cell_type": "code",
   "execution_count": 37,
   "metadata": {},
   "outputs": [
    {
     "data": {
      "text/plain": [
       "(34.57866666666667, 14.256759108213487)"
      ]
     },
     "execution_count": 37,
     "metadata": {},
     "output_type": "execute_result"
    }
   ],
   "source": [
    "# Let's do some sampling and see if we can get to the mean\n",
    "samp_means = []\n",
    "samp_stds = []\n",
    "for i in range(200):\n",
    "    sample = np.random.choice(population, size=30, replace=False)\n",
    "    samp_means.append(sample.mean())\n",
    "    samp_stds.append(sample.std())\n",
    "np.mean(samp_means), np.mean(samp_stds)"
   ]
  },
  {
   "cell_type": "code",
   "execution_count": 32,
   "metadata": {},
   "outputs": [
    {
     "data": {
      "image/png": "[encoded data removed]",
      "text/plain": [
       "<matplotlib.figure.Figure at 0x1206b9828>"
      ]
     },
     "metadata": {},
     "output_type": "display_data"
    }
   ],
   "source": [
    "plt.hist(samp_means, bins=20, color='r', alpha=0.5)\n",
    "plt.show()"
   ]
  },
  {
   "cell_type": "code",
   "execution_count": 38,
   "metadata": {},
   "outputs": [
    {
     "data": {
      "image/png": "[encoded data removed]",
      "text/plain": [
       "<matplotlib.figure.Figure at 0x120198400>"
      ]
     },
     "metadata": {},
     "output_type": "display_data"
    }
   ],
   "source": [
    "plt.hist(samp_stds, bins=20, color='r', alpha=0.5)\n",
    "plt.show()"
   ]
  },
  {
   "cell_type": "code",
   "execution_count": 36,
   "metadata": {},
   "outputs": [
    {
     "data": {
      "text/plain": [
       "2.4519008396602264"
      ]
     },
     "execution_count": 36,
     "metadata": {},
     "output_type": "execute_result"
    }
   ],
   "source": [
    "np.std(samp_means, ddof=1)"
   ]
  },
  {
   "cell_type": "code",
   "execution_count": null,
   "metadata": {},
   "outputs": [],
   "source": []
  },
  {
   "cell_type": "code",
   "execution_count": null,
   "metadata": {},
   "outputs": [],
   "source": []
  },
  {
   "cell_type": "markdown",
   "metadata": {},
   "source": [
    "### Assessment"
   ]
  }
 ],
 "metadata": {
  "kernelspec": {
   "display_name": "Python 3",
   "language": "python",
   "name": "python3"
  },
  "language_info": {
   "codemirror_mode": {
    "name": "ipython",
    "version": 3
   },
   "file_extension": ".py",
   "mimetype": "text/x-python",
   "name": "python",
   "nbconvert_exporter": "python",
   "pygments_lexer": "ipython3",
   "version": "3.6.4"
  }
 },
 "nbformat": 4,
 "nbformat_minor": 2
}
